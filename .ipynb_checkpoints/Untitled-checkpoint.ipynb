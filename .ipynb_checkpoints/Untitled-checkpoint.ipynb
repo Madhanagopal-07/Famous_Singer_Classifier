{
 "cells": [
  {
   "cell_type": "code",
   "execution_count": 2,
   "id": "056c3de7",
   "metadata": {},
   "outputs": [],
   "source": [
    "import requests\n",
    "from bs4 import BeautifulSoup\n",
    "\n",
    "def scrape_images(url, num_images):\n",
    "    r = requests.get(url)\n",
    "    soup = BeautifulSoup(r.content, 'html.parser')\n",
    "    img_tags = soup.find_all('img')\n",
    "\n",
    "    for i, img in enumerate(img_tags[:num_images]):\n",
    "        img_url = img['src']\n",
    "        print(f\"Image {i + 1}: {img_url}\")\n",
    "\n",
    "# Example usage:\n",
    "virat_kohli_url = \"https://example.com/virat-kohli-images\"\n",
    "num_images_to_scrape = 30\n",
    "scrape_images(virat_kohli_url, num_images_to_scrape)\n"
   ]
  },
  {
   "cell_type": "code",
   "execution_count": null,
   "id": "58c88a4f",
   "metadata": {},
   "outputs": [],
   "source": []
  }
 ],
 "metadata": {
  "kernelspec": {
   "display_name": "Python 3 (ipykernel)",
   "language": "python",
   "name": "python3"
  },
  "language_info": {
   "codemirror_mode": {
    "name": "ipython",
    "version": 3
   },
   "file_extension": ".py",
   "mimetype": "text/x-python",
   "name": "python",
   "nbconvert_exporter": "python",
   "pygments_lexer": "ipython3",
   "version": "3.11.3"
  }
 },
 "nbformat": 4,
 "nbformat_minor": 5
}
